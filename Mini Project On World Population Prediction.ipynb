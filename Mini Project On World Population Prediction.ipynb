{
 "cells": [
  {
   "cell_type": "markdown",
   "metadata": {},
   "source": [
    "# Introduction:\n",
    "\n",
    "1)Regression is a supervised learning technique which helps in finding the correlation between variables and enables us to predict the continuous output variable based on the one or more predictor variables. <br>\n",
    "\n",
    "2)It is mainly used for prediction, forecasting, time series modeling, and determining the causal-effect relationship between variables.<br>\n",
    "\n",
    "3)In Regression, we plot a graph between the variables which best fits the given datapoints, using this plot, the machine learning model can make predictions about the data.<br>\n",
    "\n",
    "4)In simple words, \"Regression shows a line or curve that passes through all the datapoints on target-predictor graph in such a way that the vertical distance between the datapoints and the regression line is minimum.\"<br>\n",
    "\n",
    "5)The distance between datapoints and line tells whether a model has captured a strong relationship or not.<br>"
   ]
  },
  {
   "cell_type": "markdown",
   "metadata": {},
   "source": [
    "###<b>columns present in our dataset:<br>\n",
    "<br>\n",
    "Year:this column shows years<br> <br>\n",
    "Population:This columns contains the population of world according to year<br><br>\n",
    "ChangePerc:This columns contains the population change by yearly<br><br>\n",
    "NetChange:This columns contains the net change of the population<br><br>\n",
    "Density:The column contains the density of the population<br><br>\n",
    "Urban:this column shows urban population according to year<br><br>\n",
    "Urbanpercen:This column represents the urban population percentage<br><br>"
   ]
  },
  {
   "cell_type": "markdown",
   "metadata": {},
   "source": [
    "###<b>Dependent And Independent Variables<br>\n",
    "\n",
    "<b>Dependent Variable:\n",
    "    \n",
    "    The main factor in Regression analysis which we want to predict or understand is called the dependent variable. It is also called target variable.in our dataset \"Population\" is the dependent variable\n",
    "    \n",
    "<b>Independent Variable:\n",
    "    \n",
    "    The factors which affect the dependent variables or which are used to predict the values of the dependent variables are called independent variable, also called as a predictor.in our dataset following are the independent variables 'Year' 'ChangePerc', 'NetChange', 'Density', 'Urban','UrbanPerc'"
   ]
  },
  {
   "cell_type": "markdown",
   "metadata": {},
   "source": [
    "<b>###Terms Related To Regression:\n",
    "\n",
    "-Outliers:<br>\n",
    "    Outlier is an observation which contains either very low value or very high value in comparison to other observed values. <br>An outlier may hamper the result, so it should be avoided.<br>\n",
    "-Multicollinearity:<br> \n",
    "    If the independent variables are highly correlated with each other than other variables, then such condition is called Multicollinearity.<br> It should not be present in the dataset, because it creates problem while ranking the most affecting variable.<br>\n",
    "-Underfitting and Overfitting:<br>\n",
    "    If our algorithm works well with the training dataset but not well with test dataset, then such problem is called Overfitting.<br> And if our algorithm does not perform well even with training dataset, then such problem is called underfitting.    "
   ]
  },
  {
   "cell_type": "markdown",
   "metadata": {},
   "source": [
    "# Why do we use Regression Analysis?"
   ]
  },
  {
   "cell_type": "markdown",
   "metadata": {},
   "source": [
    "As mentioned above, Regression analysis helps in the prediction of a continuous variable.\n",
    "\n",
    "There are various scenarios in the real world where we need some future predictions such as weather condition, sales prediction, marketing trends, etc., \n",
    "for such case we need some technology which can make predictions more accurately.\n",
    "\n",
    "So for such case we need Regression analysis which is a statistical method and used in machine learning and data science. \n",
    "Below are some other reasons for using Regression analysis:\n",
    "    \n",
    "    1)Regression estimates the relationship between the target and the independent variable.\n",
    "    2)It is used to find the trends in data.\n",
    "    3)It helps to predict real/continuous values.\n",
    "    4)By performing the regression, we can confidently determine the most important factor, the least important factor, and how each factor is affecting the other factors."
   ]
  },
  {
   "cell_type": "markdown",
   "metadata": {},
   "source": [
    "<b>Following Are The Types Of Regressions Which We Have Implemented On Our Dataset:<br>\n",
    "    1)LINEAR REGRESSION<br>\n",
    "    2)RIDGE REGRESSION<br>\n",
    "    3)LASSO REGRESSION<br>\n",
    "    4)ELASTICNET<br>\n",
    "    5)ELASTICNETCV<br>"
   ]
  },
  {
   "cell_type": "markdown",
   "metadata": {},
   "source": [
    "# Linear Regression:"
   ]
  },
  {
   "cell_type": "markdown",
   "metadata": {},
   "source": [
    "1)It is one of the very simple and easy algorithms which works on regression and \n",
    "shows the relationship between the continuous variables.\n",
    "\n",
    "2)It is used for solving the regression problem in machine learning.\n",
    "\n",
    "3)Linear regression shows the linear relationship between the independent variable (X-axis) and \n",
    "the dependent variable (Y-axis), hence called linear regression.\n",
    "\n",
    "4)If there is only one input variable (x), then such linear regression is called simple linear regression.\n",
    "\n",
    "And if there is more than one input variable, then such linear regression is called multiple linear regression.\n",
    "\n",
    "5)Below is the mathematical equation for Linear regression:\n",
    "\n",
    "Y= aX+b  \n",
    "Here, Y = dependent variables (target variables),\n",
    "X= Independent variables (predictor variables),\n",
    "a and b are the linear coefficients"
   ]
  },
  {
   "cell_type": "markdown",
   "metadata": {},
   "source": [
    "# Polynomial Regression:"
   ]
  },
  {
   "cell_type": "markdown",
   "metadata": {},
   "source": [
    "1)Polynomial Regression is a type of regression which models the non-linear dataset using a linear model.\n",
    "\n",
    "2)In Polynomial regression, the original features are transformed into polynomial features of given degree \n",
    "and then modeled using a linear model.\n",
    "Which means the datapoints are best fitted using a polynomial line.\n",
    "\n",
    "3)The equation for polynomial regression also derived from linear regression equation that\n",
    "means Linear regression equation Y= b0+ b1x,\n",
    "is transformed into Polynomial regression equation Y= b0+b1x+ b2x2+ b3x3+.....+ bnxn.\n",
    "\n",
    "4)Here Y is the predicted/target output,\n",
    "b0, b1,... bn are the regression coefficients.\n",
    "x is our independent/input variable."
   ]
  },
  {
   "cell_type": "markdown",
   "metadata": {},
   "source": [
    "# Ridge Regression:"
   ]
  },
  {
   "cell_type": "markdown",
   "metadata": {},
   "source": [
    " 1)general linear or polynomial regression will fail if there is high collinearity \n",
    " between the independent variables, so to solve such problems, Ridge regression can be used.\n",
    "\n",
    "2)Ridge regression is a regularization technique, which is used to reduce the complexity of the model.<br>\n",
    "\n",
    "3)It is also called as L2 regularization."
   ]
  },
  {
   "cell_type": "markdown",
   "metadata": {},
   "source": [
    "# Lasso Regression:"
   ]
  },
  {
   "cell_type": "markdown",
   "metadata": {},
   "source": [
    "1)It is similar to the Ridge Regression except that penalty term \n",
    "contains only the absolute weights instead of a square of weights.<br>\n",
    "\n",
    "2)Since it takes absolute values, hence, it can shrink the slope to 0,\n",
    "whereas Ridge Regression can only shrink it near to 0.<br>\n",
    "\n",
    "3)It is also called as L1 regularization"
   ]
  },
  {
   "cell_type": "markdown",
   "metadata": {},
   "source": [
    "# Elasticnet "
   ]
  },
  {
   "cell_type": "markdown",
   "metadata": {},
   "source": [
    "1)it is a popular type of regularized linear regression that combines \n",
    "two popular penalties, specifically the L1 and L2 penalty functions.\n",
    "\n",
    "2)Elastic Net is an extension of linear regression that adds regularization \n",
    "penalties to the loss function during training."
   ]
  },
  {
   "cell_type": "markdown",
   "metadata": {},
   "source": [
    "<b>AIM:<br>\n",
    "   \n",
    "    BUILDING A BEST FIT AND ACCURATE MODEL TO PREDICT WORLD POPULATION"
   ]
  },
  {
   "cell_type": "markdown",
   "metadata": {},
   "source": [
    "# FIRST IMPORT ALL THE NECESSARY LIBRARIES"
   ]
  },
  {
   "cell_type": "code",
   "execution_count": 1,
   "metadata": {},
   "outputs": [],
   "source": [
    "import pandas as pd \n",
    "import numpy as np \n",
    "import matplotlib.pyplot as plt \n",
    "import seaborn as sns\n",
    "%matplotlib inline"
   ]
  },
  {
   "cell_type": "code",
   "execution_count": 2,
   "metadata": {},
   "outputs": [],
   "source": [
    "df=pd.read_csv(\"F:\\\\Downloads\\\\WorldPopulation1.csv\")"
   ]
  },
  {
   "cell_type": "code",
   "execution_count": 3,
   "metadata": {},
   "outputs": [
    {
     "data": {
      "text/html": [
       "<div>\n",
       "<style scoped>\n",
       "    .dataframe tbody tr th:only-of-type {\n",
       "        vertical-align: middle;\n",
       "    }\n",
       "\n",
       "    .dataframe tbody tr th {\n",
       "        vertical-align: top;\n",
       "    }\n",
       "\n",
       "    .dataframe thead th {\n",
       "        text-align: right;\n",
       "    }\n",
       "</style>\n",
       "<table border=\"1\" class=\"dataframe\">\n",
       "  <thead>\n",
       "    <tr style=\"text-align: right;\">\n",
       "      <th></th>\n",
       "      <th>Year</th>\n",
       "      <th>Population</th>\n",
       "      <th>ChangePerc</th>\n",
       "      <th>NetChange</th>\n",
       "      <th>Density</th>\n",
       "      <th>Urban</th>\n",
       "      <th>UrbanPerc</th>\n",
       "    </tr>\n",
       "  </thead>\n",
       "  <tbody>\n",
       "    <tr>\n",
       "      <th>0</th>\n",
       "      <td>2020</td>\n",
       "      <td>7794798739</td>\n",
       "      <td>1.05</td>\n",
       "      <td>81330639</td>\n",
       "      <td>52</td>\n",
       "      <td>4378993944</td>\n",
       "      <td>56</td>\n",
       "    </tr>\n",
       "    <tr>\n",
       "      <th>1</th>\n",
       "      <td>2019</td>\n",
       "      <td>7713468100</td>\n",
       "      <td>1.08</td>\n",
       "      <td>82377060</td>\n",
       "      <td>52</td>\n",
       "      <td>4299438618</td>\n",
       "      <td>56</td>\n",
       "    </tr>\n",
       "    <tr>\n",
       "      <th>2</th>\n",
       "      <td>2018</td>\n",
       "      <td>7631091040</td>\n",
       "      <td>1.10</td>\n",
       "      <td>83232115</td>\n",
       "      <td>51</td>\n",
       "      <td>4219817318</td>\n",
       "      <td>55</td>\n",
       "    </tr>\n",
       "    <tr>\n",
       "      <th>3</th>\n",
       "      <td>2017</td>\n",
       "      <td>7547858925</td>\n",
       "      <td>1.12</td>\n",
       "      <td>83836876</td>\n",
       "      <td>51</td>\n",
       "      <td>4140188594</td>\n",
       "      <td>55</td>\n",
       "    </tr>\n",
       "    <tr>\n",
       "      <th>4</th>\n",
       "      <td>2016</td>\n",
       "      <td>7464022049</td>\n",
       "      <td>1.14</td>\n",
       "      <td>84224910</td>\n",
       "      <td>50</td>\n",
       "      <td>4060652683</td>\n",
       "      <td>54</td>\n",
       "    </tr>\n",
       "  </tbody>\n",
       "</table>\n",
       "</div>"
      ],
      "text/plain": [
       "   Year  Population  ChangePerc  NetChange  Density       Urban  UrbanPerc\n",
       "0  2020  7794798739        1.05   81330639       52  4378993944         56\n",
       "1  2019  7713468100        1.08   82377060       52  4299438618         56\n",
       "2  2018  7631091040        1.10   83232115       51  4219817318         55\n",
       "3  2017  7547858925        1.12   83836876       51  4140188594         55\n",
       "4  2016  7464022049        1.14   84224910       50  4060652683         54"
      ]
     },
     "execution_count": 3,
     "metadata": {},
     "output_type": "execute_result"
    }
   ],
   "source": [
    "#TO SEE DEFAULT FIRST 5 ROWS\n",
    "df.head()"
   ]
  },
  {
   "cell_type": "code",
   "execution_count": 4,
   "metadata": {},
   "outputs": [
    {
     "name": "stdout",
     "output_type": "stream",
     "text": [
      "<class 'pandas.core.frame.DataFrame'>\n",
      "RangeIndex: 70 entries, 0 to 69\n",
      "Data columns (total 7 columns):\n",
      " #   Column      Non-Null Count  Dtype  \n",
      "---  ------      --------------  -----  \n",
      " 0   Year        70 non-null     int64  \n",
      " 1   Population  70 non-null     int64  \n",
      " 2   ChangePerc  70 non-null     float64\n",
      " 3   NetChange   70 non-null     int64  \n",
      " 4   Density     70 non-null     int64  \n",
      " 5   Urban       70 non-null     int64  \n",
      " 6   UrbanPerc   70 non-null     int64  \n",
      "dtypes: float64(1), int64(6)\n",
      "memory usage: 4.0 KB\n"
     ]
    }
   ],
   "source": [
    "#THIS METHOD SHOWS DATA TYPE OF COLUMNS,TOTAL NONNULL VALUS IN COLUMNS. \n",
    "df.info()"
   ]
  },
  {
   "cell_type": "code",
   "execution_count": 5,
   "metadata": {},
   "outputs": [
    {
     "data": {
      "text/html": [
       "<div>\n",
       "<style scoped>\n",
       "    .dataframe tbody tr th:only-of-type {\n",
       "        vertical-align: middle;\n",
       "    }\n",
       "\n",
       "    .dataframe tbody tr th {\n",
       "        vertical-align: top;\n",
       "    }\n",
       "\n",
       "    .dataframe thead th {\n",
       "        text-align: right;\n",
       "    }\n",
       "</style>\n",
       "<table border=\"1\" class=\"dataframe\">\n",
       "  <thead>\n",
       "    <tr style=\"text-align: right;\">\n",
       "      <th></th>\n",
       "      <th>Year</th>\n",
       "      <th>Population</th>\n",
       "      <th>ChangePerc</th>\n",
       "      <th>NetChange</th>\n",
       "      <th>Density</th>\n",
       "      <th>Urban</th>\n",
       "      <th>UrbanPerc</th>\n",
       "    </tr>\n",
       "  </thead>\n",
       "  <tbody>\n",
       "    <tr>\n",
       "      <th>count</th>\n",
       "      <td>70.000000</td>\n",
       "      <td>7.000000e+01</td>\n",
       "      <td>70.000000</td>\n",
       "      <td>7.000000e+01</td>\n",
       "      <td>70.000000</td>\n",
       "      <td>7.000000e+01</td>\n",
       "      <td>70.000000</td>\n",
       "    </tr>\n",
       "    <tr>\n",
       "      <th>mean</th>\n",
       "      <td>1985.500000</td>\n",
       "      <td>5.002010e+09</td>\n",
       "      <td>1.616429</td>\n",
       "      <td>7.511954e+07</td>\n",
       "      <td>33.557143</td>\n",
       "      <td>2.226815e+09</td>\n",
       "      <td>42.200000</td>\n",
       "    </tr>\n",
       "    <tr>\n",
       "      <th>std</th>\n",
       "      <td>20.351085</td>\n",
       "      <td>1.594877e+09</td>\n",
       "      <td>0.321288</td>\n",
       "      <td>1.256972e+07</td>\n",
       "      <td>10.723989</td>\n",
       "      <td>1.070191e+09</td>\n",
       "      <td>7.447595</td>\n",
       "    </tr>\n",
       "    <tr>\n",
       "      <th>min</th>\n",
       "      <td>1951.000000</td>\n",
       "      <td>2.584034e+09</td>\n",
       "      <td>1.050000</td>\n",
       "      <td>4.674740e+07</td>\n",
       "      <td>17.000000</td>\n",
       "      <td>7.750677e+08</td>\n",
       "      <td>30.000000</td>\n",
       "    </tr>\n",
       "    <tr>\n",
       "      <th>25%</th>\n",
       "      <td>1968.250000</td>\n",
       "      <td>3.570120e+09</td>\n",
       "      <td>1.262500</td>\n",
       "      <td>7.314225e+07</td>\n",
       "      <td>24.000000</td>\n",
       "      <td>1.294408e+09</td>\n",
       "      <td>36.000000</td>\n",
       "    </tr>\n",
       "    <tr>\n",
       "      <th>50%</th>\n",
       "      <td>1985.500000</td>\n",
       "      <td>4.915745e+09</td>\n",
       "      <td>1.770000</td>\n",
       "      <td>7.942852e+07</td>\n",
       "      <td>33.000000</td>\n",
       "      <td>2.035272e+09</td>\n",
       "      <td>41.500000</td>\n",
       "    </tr>\n",
       "    <tr>\n",
       "      <th>75%</th>\n",
       "      <td>2002.750000</td>\n",
       "      <td>6.361332e+09</td>\n",
       "      <td>1.847500</td>\n",
       "      <td>8.356683e+07</td>\n",
       "      <td>42.750000</td>\n",
       "      <td>3.054260e+09</td>\n",
       "      <td>48.000000</td>\n",
       "    </tr>\n",
       "    <tr>\n",
       "      <th>max</th>\n",
       "      <td>2020.000000</td>\n",
       "      <td>7.794799e+09</td>\n",
       "      <td>2.090000</td>\n",
       "      <td>9.290386e+07</td>\n",
       "      <td>52.000000</td>\n",
       "      <td>4.378994e+09</td>\n",
       "      <td>56.000000</td>\n",
       "    </tr>\n",
       "  </tbody>\n",
       "</table>\n",
       "</div>"
      ],
      "text/plain": [
       "              Year    Population  ChangePerc     NetChange    Density  \\\n",
       "count    70.000000  7.000000e+01   70.000000  7.000000e+01  70.000000   \n",
       "mean   1985.500000  5.002010e+09    1.616429  7.511954e+07  33.557143   \n",
       "std      20.351085  1.594877e+09    0.321288  1.256972e+07  10.723989   \n",
       "min    1951.000000  2.584034e+09    1.050000  4.674740e+07  17.000000   \n",
       "25%    1968.250000  3.570120e+09    1.262500  7.314225e+07  24.000000   \n",
       "50%    1985.500000  4.915745e+09    1.770000  7.942852e+07  33.000000   \n",
       "75%    2002.750000  6.361332e+09    1.847500  8.356683e+07  42.750000   \n",
       "max    2020.000000  7.794799e+09    2.090000  9.290386e+07  52.000000   \n",
       "\n",
       "              Urban  UrbanPerc  \n",
       "count  7.000000e+01  70.000000  \n",
       "mean   2.226815e+09  42.200000  \n",
       "std    1.070191e+09   7.447595  \n",
       "min    7.750677e+08  30.000000  \n",
       "25%    1.294408e+09  36.000000  \n",
       "50%    2.035272e+09  41.500000  \n",
       "75%    3.054260e+09  48.000000  \n",
       "max    4.378994e+09  56.000000  "
      ]
     },
     "execution_count": 5,
     "metadata": {},
     "output_type": "execute_result"
    }
   ],
   "source": [
    "#IT SHOWS STATISTICS TERMS OF OUR DATA\n",
    "df.describe()"
   ]
  },
  {
   "cell_type": "code",
   "execution_count": 6,
   "metadata": {},
   "outputs": [
    {
     "data": {
      "text/plain": [
       "Year            int64\n",
       "Population      int64\n",
       "ChangePerc    float64\n",
       "NetChange       int64\n",
       "Density         int64\n",
       "Urban           int64\n",
       "UrbanPerc       int64\n",
       "dtype: object"
      ]
     },
     "execution_count": 6,
     "metadata": {},
     "output_type": "execute_result"
    }
   ],
   "source": [
    "#SHOWS DATA TYPES OF COLUMNS\n",
    "df.dtypes"
   ]
  },
  {
   "cell_type": "code",
   "execution_count": 7,
   "metadata": {},
   "outputs": [
    {
     "data": {
      "text/plain": [
       "0     False\n",
       "1     False\n",
       "2     False\n",
       "3     False\n",
       "4     False\n",
       "      ...  \n",
       "65    False\n",
       "66    False\n",
       "67    False\n",
       "68    False\n",
       "69    False\n",
       "Length: 70, dtype: bool"
      ]
     },
     "execution_count": 7,
     "metadata": {},
     "output_type": "execute_result"
    }
   ],
   "source": [
    "#SHOWS WHETHER DUPLICATES PRESENT IN THE THE COLUMN\n",
    "df.duplicated()"
   ]
  },
  {
   "cell_type": "code",
   "execution_count": 8,
   "metadata": {},
   "outputs": [
    {
     "data": {
      "text/plain": [
       "Year          0\n",
       "Population    0\n",
       "ChangePerc    0\n",
       "NetChange     0\n",
       "Density       0\n",
       "Urban         0\n",
       "UrbanPerc     0\n",
       "dtype: int64"
      ]
     },
     "execution_count": 8,
     "metadata": {},
     "output_type": "execute_result"
    }
   ],
   "source": [
    "#SHOWS TOTAL NUMBVER OF NULL VALUES PRESENT IN THE COLUMN\n",
    "df.isna().sum()"
   ]
  },
  {
   "cell_type": "code",
   "execution_count": 9,
   "metadata": {},
   "outputs": [
    {
     "data": {
      "text/plain": [
       "<AxesSubplot:>"
      ]
     },
     "execution_count": 9,
     "metadata": {},
     "output_type": "execute_result"
    },
    {
     "data": {
      "image/png": "[encoded data removed]",
      "text/plain": [
       "<Figure size 432x288 with 1 Axes>"
      ]
     },
     "metadata": {
      "needs_background": "light"
     },
     "output_type": "display_data"
    }
   ],
   "source": [
    "#TO SEE WHETHER THE OUTLIERS PRESENT IN THE COLUMNS\n",
    "df.boxplot()"
   ]
  },
  {
   "cell_type": "markdown",
   "metadata": {},
   "source": [
    "# DATA VISUALIZATION"
   ]
  },
  {
   "cell_type": "code",
   "execution_count": 10,
   "metadata": {},
   "outputs": [
    {
     "data": {
      "text/plain": [
       "[<matplotlib.lines.Line2D at 0x1c7acc3b670>,\n",
       " <matplotlib.lines.Line2D at 0x1c7acc3b730>,\n",
       " <matplotlib.lines.Line2D at 0x1c7acc3b7f0>,\n",
       " <matplotlib.lines.Line2D at 0x1c7acc3b8b0>,\n",
       " <matplotlib.lines.Line2D at 0x1c7acc3b970>,\n",
       " <matplotlib.lines.Line2D at 0x1c7acc3ba30>,\n",
       " <matplotlib.lines.Line2D at 0x1c7acc3baf0>]"
      ]
     },
     "execution_count": 10,
     "metadata": {},
     "output_type": "execute_result"
    },
    {
     "data": {
      "image/png": "[encoded data removed]",
      "text/plain": [
       "<Figure size 432x288 with 1 Axes>"
      ]
     },
     "metadata": {
      "needs_background": "light"
     },
     "output_type": "display_data"
    }
   ],
   "source": [
    "plt.plot(df)"
   ]
  },
  {
   "cell_type": "code",
   "execution_count": 11,
   "metadata": {},
   "outputs": [
    {
     "data": {
      "text/plain": [
       "array([[<AxesSubplot:title={'center':'Year'}>,\n",
       "        <AxesSubplot:title={'center':'Population'}>,\n",
       "        <AxesSubplot:title={'center':'ChangePerc'}>],\n",
       "       [<AxesSubplot:title={'center':'NetChange'}>,\n",
       "        <AxesSubplot:title={'center':'Density'}>,\n",
       "        <AxesSubplot:title={'center':'Urban'}>],\n",
       "       [<AxesSubplot:title={'center':'UrbanPerc'}>, <AxesSubplot:>,\n",
       "        <AxesSubplot:>]], dtype=object)"
      ]
     },
     "execution_count": 11,
     "metadata": {},
     "output_type": "execute_result"
    },
    {
     "data": {
      "image/png": "[encoded data removed]",
      "text/plain": [
       "<Figure size 432x288 with 9 Axes>"
      ]
     },
     "metadata": {
      "needs_background": "light"
     },
     "output_type": "display_data"
    }
   ],
   "source": [
    "df.hist()"
   ]
  },
  {
   "cell_type": "code",
   "execution_count": 12,
   "metadata": {},
   "outputs": [
    {
     "data": {
      "text/plain": [
       "<seaborn.axisgrid.FacetGrid at 0x1c7acbba8b0>"
      ]
     },
     "execution_count": 12,
     "metadata": {},
     "output_type": "execute_result"
    },
    {
     "data": {
      "image/png": "[encoded data removed]",
      "text/plain": [
       "<Figure size 360x360 with 1 Axes>"
      ]
     },
     "metadata": {
      "needs_background": "light"
     },
     "output_type": "display_data"
    }
   ],
   "source": [
    "sns.catplot(data=df,x=\"Year\",y=\"Population\")"
   ]
  },
  {
   "cell_type": "code",
   "execution_count": 13,
   "metadata": {},
   "outputs": [
    {
     "data": {
      "text/plain": [
       "<seaborn.axisgrid.FacetGrid at 0x1c7ad19b940>"
      ]
     },
     "execution_count": 13,
     "metadata": {},
     "output_type": "execute_result"
    },
    {
     "data": {
      "image/png": "[encoded data removed]",
      "text/plain": [
       "<Figure size 360x360 with 1 Axes>"
      ]
     },
     "metadata": {
      "needs_background": "light"
     },
     "output_type": "display_data"
    }
   ],
   "source": [
    "sns.catplot(data=df,x=\"Year\",y=\"Density\")"
   ]
  },
  {
   "cell_type": "code",
   "execution_count": 15,
   "metadata": {},
   "outputs": [],
   "source": [
    "from sklearn.preprocessing import StandardScaler\n",
    "sc=StandardScaler()\n",
    "df[\"Year\"]=sc.fit_transform(df[[\"Year\"]])\n",
    "df[\"Population\"]=sc.fit_transform(df[[\"Population\"]])\n",
    "df[\"ChangePerc\"]=sc.fit_transform(df[[\"ChangePerc\"]])\n",
    "df[\"NetChange\"]=sc.fit_transform(df[[\"NetChange\"]])\n",
    "df[\"Density\"]=sc.fit_transform(df[[\"Density\"]])\n",
    "df[\"Urban\"]=sc.fit_transform(df[[\"Urban\"]])\n",
    "df[\"UrbanPerc\"]=sc.fit_transform(df[[\"UrbanPerc\"]])"
   ]
  },
  {
   "cell_type": "code",
   "execution_count": 16,
   "metadata": {},
   "outputs": [
    {
     "data": {
      "text/html": [
       "<div>\n",
       "<style scoped>\n",
       "    .dataframe tbody tr th:only-of-type {\n",
       "        vertical-align: middle;\n",
       "    }\n",
       "\n",
       "    .dataframe tbody tr th {\n",
       "        vertical-align: top;\n",
       "    }\n",
       "\n",
       "    .dataframe thead th {\n",
       "        text-align: right;\n",
       "    }\n",
       "</style>\n",
       "<table border=\"1\" class=\"dataframe\">\n",
       "  <thead>\n",
       "    <tr style=\"text-align: right;\">\n",
       "      <th></th>\n",
       "      <th>Year</th>\n",
       "      <th>Population</th>\n",
       "      <th>ChangePerc</th>\n",
       "      <th>NetChange</th>\n",
       "      <th>Density</th>\n",
       "      <th>Urban</th>\n",
       "      <th>UrbanPerc</th>\n",
       "    </tr>\n",
       "  </thead>\n",
       "  <tbody>\n",
       "    <tr>\n",
       "      <th>0</th>\n",
       "      <td>1.707481</td>\n",
       "      <td>1.763744</td>\n",
       "      <td>-1.775721</td>\n",
       "      <td>0.497700</td>\n",
       "      <td>1.732193</td>\n",
       "      <td>2.025543</td>\n",
       "      <td>1.866326</td>\n",
       "    </tr>\n",
       "    <tr>\n",
       "      <th>1</th>\n",
       "      <td>1.657989</td>\n",
       "      <td>1.712381</td>\n",
       "      <td>-1.681673</td>\n",
       "      <td>0.581550</td>\n",
       "      <td>1.732193</td>\n",
       "      <td>1.950669</td>\n",
       "      <td>1.866326</td>\n",
       "    </tr>\n",
       "    <tr>\n",
       "      <th>2</th>\n",
       "      <td>1.608497</td>\n",
       "      <td>1.660357</td>\n",
       "      <td>-1.618974</td>\n",
       "      <td>0.650067</td>\n",
       "      <td>1.638271</td>\n",
       "      <td>1.875733</td>\n",
       "      <td>1.731085</td>\n",
       "    </tr>\n",
       "    <tr>\n",
       "      <th>3</th>\n",
       "      <td>1.559005</td>\n",
       "      <td>1.607793</td>\n",
       "      <td>-1.556275</td>\n",
       "      <td>0.698526</td>\n",
       "      <td>1.638271</td>\n",
       "      <td>1.800789</td>\n",
       "      <td>1.731085</td>\n",
       "    </tr>\n",
       "    <tr>\n",
       "      <th>4</th>\n",
       "      <td>1.509513</td>\n",
       "      <td>1.554847</td>\n",
       "      <td>-1.493576</td>\n",
       "      <td>0.729620</td>\n",
       "      <td>1.544349</td>\n",
       "      <td>1.725933</td>\n",
       "      <td>1.595844</td>\n",
       "    </tr>\n",
       "  </tbody>\n",
       "</table>\n",
       "</div>"
      ],
      "text/plain": [
       "       Year  Population  ChangePerc  NetChange   Density     Urban  UrbanPerc\n",
       "0  1.707481    1.763744   -1.775721   0.497700  1.732193  2.025543   1.866326\n",
       "1  1.657989    1.712381   -1.681673   0.581550  1.732193  1.950669   1.866326\n",
       "2  1.608497    1.660357   -1.618974   0.650067  1.638271  1.875733   1.731085\n",
       "3  1.559005    1.607793   -1.556275   0.698526  1.638271  1.800789   1.731085\n",
       "4  1.509513    1.554847   -1.493576   0.729620  1.544349  1.725933   1.595844"
      ]
     },
     "execution_count": 16,
     "metadata": {},
     "output_type": "execute_result"
    }
   ],
   "source": [
    "df.head()"
   ]
  },
  {
   "cell_type": "code",
   "execution_count": 17,
   "metadata": {},
   "outputs": [
    {
     "data": {
      "text/html": [
       "<div>\n",
       "<style scoped>\n",
       "    .dataframe tbody tr th:only-of-type {\n",
       "        vertical-align: middle;\n",
       "    }\n",
       "\n",
       "    .dataframe tbody tr th {\n",
       "        vertical-align: top;\n",
       "    }\n",
       "\n",
       "    .dataframe thead th {\n",
       "        text-align: right;\n",
       "    }\n",
       "</style>\n",
       "<table border=\"1\" class=\"dataframe\">\n",
       "  <thead>\n",
       "    <tr style=\"text-align: right;\">\n",
       "      <th></th>\n",
       "      <th>Year</th>\n",
       "      <th>Population</th>\n",
       "      <th>ChangePerc</th>\n",
       "      <th>NetChange</th>\n",
       "      <th>Density</th>\n",
       "      <th>Urban</th>\n",
       "      <th>UrbanPerc</th>\n",
       "    </tr>\n",
       "  </thead>\n",
       "  <tbody>\n",
       "    <tr>\n",
       "      <th>Year</th>\n",
       "      <td>1.000000</td>\n",
       "      <td>0.998403</td>\n",
       "      <td>-0.887211</td>\n",
       "      <td>0.797789</td>\n",
       "      <td>0.997915</td>\n",
       "      <td>0.987119</td>\n",
       "      <td>0.994349</td>\n",
       "    </tr>\n",
       "    <tr>\n",
       "      <th>Population</th>\n",
       "      <td>0.998403</td>\n",
       "      <td>1.000000</td>\n",
       "      <td>-0.907773</td>\n",
       "      <td>0.768659</td>\n",
       "      <td>0.999640</td>\n",
       "      <td>0.993085</td>\n",
       "      <td>0.995669</td>\n",
       "    </tr>\n",
       "    <tr>\n",
       "      <th>ChangePerc</th>\n",
       "      <td>-0.887211</td>\n",
       "      <td>-0.907773</td>\n",
       "      <td>1.000000</td>\n",
       "      <td>-0.451671</td>\n",
       "      <td>-0.908100</td>\n",
       "      <td>-0.924174</td>\n",
       "      <td>-0.899791</td>\n",
       "    </tr>\n",
       "    <tr>\n",
       "      <th>NetChange</th>\n",
       "      <td>0.797789</td>\n",
       "      <td>0.768659</td>\n",
       "      <td>-0.451671</td>\n",
       "      <td>1.000000</td>\n",
       "      <td>0.767797</td>\n",
       "      <td>0.706693</td>\n",
       "      <td>0.753161</td>\n",
       "    </tr>\n",
       "    <tr>\n",
       "      <th>Density</th>\n",
       "      <td>0.997915</td>\n",
       "      <td>0.999640</td>\n",
       "      <td>-0.908100</td>\n",
       "      <td>0.767797</td>\n",
       "      <td>1.000000</td>\n",
       "      <td>0.992816</td>\n",
       "      <td>0.995339</td>\n",
       "    </tr>\n",
       "    <tr>\n",
       "      <th>Urban</th>\n",
       "      <td>0.987119</td>\n",
       "      <td>0.993085</td>\n",
       "      <td>-0.924174</td>\n",
       "      <td>0.706693</td>\n",
       "      <td>0.992816</td>\n",
       "      <td>1.000000</td>\n",
       "      <td>0.995454</td>\n",
       "    </tr>\n",
       "    <tr>\n",
       "      <th>UrbanPerc</th>\n",
       "      <td>0.994349</td>\n",
       "      <td>0.995669</td>\n",
       "      <td>-0.899791</td>\n",
       "      <td>0.753161</td>\n",
       "      <td>0.995339</td>\n",
       "      <td>0.995454</td>\n",
       "      <td>1.000000</td>\n",
       "    </tr>\n",
       "  </tbody>\n",
       "</table>\n",
       "</div>"
      ],
      "text/plain": [
       "                Year  Population  ChangePerc  NetChange   Density     Urban  \\\n",
       "Year        1.000000    0.998403   -0.887211   0.797789  0.997915  0.987119   \n",
       "Population  0.998403    1.000000   -0.907773   0.768659  0.999640  0.993085   \n",
       "ChangePerc -0.887211   -0.907773    1.000000  -0.451671 -0.908100 -0.924174   \n",
       "NetChange   0.797789    0.768659   -0.451671   1.000000  0.767797  0.706693   \n",
       "Density     0.997915    0.999640   -0.908100   0.767797  1.000000  0.992816   \n",
       "Urban       0.987119    0.993085   -0.924174   0.706693  0.992816  1.000000   \n",
       "UrbanPerc   0.994349    0.995669   -0.899791   0.753161  0.995339  0.995454   \n",
       "\n",
       "            UrbanPerc  \n",
       "Year         0.994349  \n",
       "Population   0.995669  \n",
       "ChangePerc  -0.899791  \n",
       "NetChange    0.753161  \n",
       "Density      0.995339  \n",
       "Urban        0.995454  \n",
       "UrbanPerc    1.000000  "
      ]
     },
     "execution_count": 17,
     "metadata": {},
     "output_type": "execute_result"
    }
   ],
   "source": [
    "#TO SEE THE CORRELATION BETWEEN TWO COLUMNS\n",
    "df.corr()"
   ]
  },
  {
   "cell_type": "code",
   "execution_count": 18,
   "metadata": {},
   "outputs": [
    {
     "data": {
      "text/plain": [
       "<AxesSubplot:>"
      ]
     },
     "execution_count": 18,
     "metadata": {},
     "output_type": "execute_result"
    },
    {
     "data": {
      "image/png": "[encoded data removed]",
      "text/plain": [
       "<Figure size 720x576 with 2 Axes>"
      ]
     },
     "metadata": {
      "needs_background": "light"
     },
     "output_type": "display_data"
    }
   ],
   "source": [
    "plt.figure(figsize=(10,8))\n",
    "sns.heatmap(df.corr(),annot=True)"
   ]
  },
  {
   "cell_type": "code",
   "execution_count": 19,
   "metadata": {},
   "outputs": [
    {
     "data": {
      "text/plain": [
       "Index(['Year', 'Population', 'ChangePerc', 'NetChange', 'Density', 'Urban',\n",
       "       'UrbanPerc'],\n",
       "      dtype='object')"
      ]
     },
     "execution_count": 19,
     "metadata": {},
     "output_type": "execute_result"
    }
   ],
   "source": [
    "#SHOWS THE NAMES OF COLUMNS\n",
    "df.columns"
   ]
  },
  {
   "cell_type": "code",
   "execution_count": 20,
   "metadata": {},
   "outputs": [
    {
     "data": {
      "text/plain": [
       "array([<AxesSubplot:>, <AxesSubplot:>, <AxesSubplot:>, <AxesSubplot:>,\n",
       "       <AxesSubplot:>, <AxesSubplot:>, <AxesSubplot:>], dtype=object)"
      ]
     },
     "execution_count": 20,
     "metadata": {},
     "output_type": "execute_result"
    },
    {
     "data": {
      "image/png": "[encoded data removed]",
      "text/plain": [
       "<Figure size 720x720 with 7 Axes>"
      ]
     },
     "metadata": {
      "needs_background": "light"
     },
     "output_type": "display_data"
    }
   ],
   "source": [
    "df.plot(subplots=True,figsize=(10,10))"
   ]
  },
  {
   "cell_type": "code",
   "execution_count": 21,
   "metadata": {},
   "outputs": [
    {
     "data": {
      "text/plain": [
       "<seaborn.axisgrid.PairGrid at 0x1c7adc9ac10>"
      ]
     },
     "execution_count": 21,
     "metadata": {},
     "output_type": "execute_result"
    },
    {
     "data": {
      "image/png": "[encoded data removed]",
      "text/plain": [
       "<Figure size 1080x180 with 6 Axes>"
      ]
     },
     "metadata": {
      "needs_background": "light"
     },
     "output_type": "display_data"
    }
   ],
   "source": [
    "sns.pairplot(x_vars=['Year', 'ChangePerc', 'NetChange', 'Density', 'Urban',\n",
    "       'UrbanPerc'],y_vars=['Population'],data=df)"
   ]
  },
  {
   "cell_type": "markdown",
   "metadata": {},
   "source": [
    "#NOTE:from above visualization we understood that there is no linear relationship between population & changeperc,population & NetChange columns"
   ]
  },
  {
   "cell_type": "code",
   "execution_count": 22,
   "metadata": {},
   "outputs": [],
   "source": [
    "#SPLITTING THE DATA INTO DEPENDENT AND INDEPENDENT VARIABLES"
   ]
  },
  {
   "cell_type": "code",
   "execution_count": 23,
   "metadata": {},
   "outputs": [],
   "source": [
    "x=df.drop(columns=[\"Population\",\"ChangePerc\",\"NetChange\"])\n",
    "y=df[\"Population\"]"
   ]
  },
  {
   "cell_type": "code",
   "execution_count": 24,
   "metadata": {},
   "outputs": [
    {
     "data": {
      "text/html": [
       "<div>\n",
       "<style scoped>\n",
       "    .dataframe tbody tr th:only-of-type {\n",
       "        vertical-align: middle;\n",
       "    }\n",
       "\n",
       "    .dataframe tbody tr th {\n",
       "        vertical-align: top;\n",
       "    }\n",
       "\n",
       "    .dataframe thead th {\n",
       "        text-align: right;\n",
       "    }\n",
       "</style>\n",
       "<table border=\"1\" class=\"dataframe\">\n",
       "  <thead>\n",
       "    <tr style=\"text-align: right;\">\n",
       "      <th></th>\n",
       "      <th>Year</th>\n",
       "      <th>Density</th>\n",
       "      <th>Urban</th>\n",
       "      <th>UrbanPerc</th>\n",
       "    </tr>\n",
       "  </thead>\n",
       "  <tbody>\n",
       "    <tr>\n",
       "      <th>0</th>\n",
       "      <td>1.707481</td>\n",
       "      <td>1.732193</td>\n",
       "      <td>2.025543</td>\n",
       "      <td>1.866326</td>\n",
       "    </tr>\n",
       "    <tr>\n",
       "      <th>1</th>\n",
       "      <td>1.657989</td>\n",
       "      <td>1.732193</td>\n",
       "      <td>1.950669</td>\n",
       "      <td>1.866326</td>\n",
       "    </tr>\n",
       "    <tr>\n",
       "      <th>2</th>\n",
       "      <td>1.608497</td>\n",
       "      <td>1.638271</td>\n",
       "      <td>1.875733</td>\n",
       "      <td>1.731085</td>\n",
       "    </tr>\n",
       "    <tr>\n",
       "      <th>3</th>\n",
       "      <td>1.559005</td>\n",
       "      <td>1.638271</td>\n",
       "      <td>1.800789</td>\n",
       "      <td>1.731085</td>\n",
       "    </tr>\n",
       "    <tr>\n",
       "      <th>4</th>\n",
       "      <td>1.509513</td>\n",
       "      <td>1.544349</td>\n",
       "      <td>1.725933</td>\n",
       "      <td>1.595844</td>\n",
       "    </tr>\n",
       "    <tr>\n",
       "      <th>...</th>\n",
       "      <td>...</td>\n",
       "      <td>...</td>\n",
       "      <td>...</td>\n",
       "      <td>...</td>\n",
       "    </tr>\n",
       "    <tr>\n",
       "      <th>65</th>\n",
       "      <td>-1.509513</td>\n",
       "      <td>-1.367238</td>\n",
       "      <td>-1.270383</td>\n",
       "      <td>-1.379458</td>\n",
       "    </tr>\n",
       "    <tr>\n",
       "      <th>66</th>\n",
       "      <td>-1.559005</td>\n",
       "      <td>-1.461161</td>\n",
       "      <td>-1.295634</td>\n",
       "      <td>-1.514699</td>\n",
       "    </tr>\n",
       "    <tr>\n",
       "      <th>67</th>\n",
       "      <td>-1.608497</td>\n",
       "      <td>-1.461161</td>\n",
       "      <td>-1.320000</td>\n",
       "      <td>-1.514699</td>\n",
       "    </tr>\n",
       "    <tr>\n",
       "      <th>68</th>\n",
       "      <td>-1.657989</td>\n",
       "      <td>-1.461161</td>\n",
       "      <td>-1.343536</td>\n",
       "      <td>-1.649940</td>\n",
       "    </tr>\n",
       "    <tr>\n",
       "      <th>69</th>\n",
       "      <td>-1.707481</td>\n",
       "      <td>-1.555083</td>\n",
       "      <td>-1.366326</td>\n",
       "      <td>-1.649940</td>\n",
       "    </tr>\n",
       "  </tbody>\n",
       "</table>\n",
       "<p>70 rows × 4 columns</p>\n",
       "</div>"
      ],
      "text/plain": [
       "        Year   Density     Urban  UrbanPerc\n",
       "0   1.707481  1.732193  2.025543   1.866326\n",
       "1   1.657989  1.732193  1.950669   1.866326\n",
       "2   1.608497  1.638271  1.875733   1.731085\n",
       "3   1.559005  1.638271  1.800789   1.731085\n",
       "4   1.509513  1.544349  1.725933   1.595844\n",
       "..       ...       ...       ...        ...\n",
       "65 -1.509513 -1.367238 -1.270383  -1.379458\n",
       "66 -1.559005 -1.461161 -1.295634  -1.514699\n",
       "67 -1.608497 -1.461161 -1.320000  -1.514699\n",
       "68 -1.657989 -1.461161 -1.343536  -1.649940\n",
       "69 -1.707481 -1.555083 -1.366326  -1.649940\n",
       "\n",
       "[70 rows x 4 columns]"
      ]
     },
     "execution_count": 24,
     "metadata": {},
     "output_type": "execute_result"
    }
   ],
   "source": [
    "x"
   ]
  },
  {
   "cell_type": "code",
   "execution_count": 25,
   "metadata": {},
   "outputs": [
    {
     "data": {
      "text/plain": [
       "0     1.763744\n",
       "1     1.712381\n",
       "2     1.660357\n",
       "3     1.607793\n",
       "4     1.554847\n",
       "        ...   \n",
       "65   -1.407685\n",
       "66   -1.438108\n",
       "67   -1.467940\n",
       "68   -1.497463\n",
       "69   -1.527036\n",
       "Name: Population, Length: 70, dtype: float64"
      ]
     },
     "execution_count": 25,
     "metadata": {},
     "output_type": "execute_result"
    }
   ],
   "source": [
    "y"
   ]
  },
  {
   "cell_type": "code",
   "execution_count": 26,
   "metadata": {},
   "outputs": [],
   "source": [
    "#SPLITTING THE DATA INTO TRAINING AND TESTING DATA\n",
    "from sklearn.model_selection import train_test_split"
   ]
  },
  {
   "cell_type": "code",
   "execution_count": 27,
   "metadata": {},
   "outputs": [],
   "source": [
    "xtrain,xtest,ytrain,ytest=train_test_split(x,y,test_size=0.2,random_state=1)"
   ]
  },
  {
   "cell_type": "code",
   "execution_count": 28,
   "metadata": {},
   "outputs": [
    {
     "data": {
      "text/plain": [
       "(56, 4)"
      ]
     },
     "execution_count": 28,
     "metadata": {},
     "output_type": "execute_result"
    }
   ],
   "source": [
    "xtrain.shape"
   ]
  },
  {
   "cell_type": "code",
   "execution_count": 29,
   "metadata": {},
   "outputs": [
    {
     "data": {
      "text/plain": [
       "(14, 4)"
      ]
     },
     "execution_count": 29,
     "metadata": {},
     "output_type": "execute_result"
    }
   ],
   "source": [
    "xtest.shape"
   ]
  },
  {
   "cell_type": "code",
   "execution_count": 30,
   "metadata": {},
   "outputs": [
    {
     "data": {
      "text/plain": [
       "(56,)"
      ]
     },
     "execution_count": 30,
     "metadata": {},
     "output_type": "execute_result"
    }
   ],
   "source": [
    "ytrain.shape"
   ]
  },
  {
   "cell_type": "code",
   "execution_count": 31,
   "metadata": {},
   "outputs": [
    {
     "data": {
      "text/plain": [
       "(14,)"
      ]
     },
     "execution_count": 31,
     "metadata": {},
     "output_type": "execute_result"
    }
   ],
   "source": [
    "ytest.shape"
   ]
  },
  {
   "cell_type": "markdown",
   "metadata": {},
   "source": [
    "# LinearRegression model"
   ]
  },
  {
   "cell_type": "code",
   "execution_count": 32,
   "metadata": {},
   "outputs": [
    {
     "data": {
      "text/plain": [
       "LinearRegression()"
      ]
     },
     "execution_count": 32,
     "metadata": {},
     "output_type": "execute_result"
    }
   ],
   "source": [
    "from sklearn.linear_model import LinearRegression\n",
    "model=LinearRegression()\n",
    "model.fit(xtrain,ytrain)"
   ]
  },
  {
   "cell_type": "code",
   "execution_count": 33,
   "metadata": {},
   "outputs": [],
   "source": [
    "ypred=model.predict(xtest)"
   ]
  },
  {
   "cell_type": "code",
   "execution_count": 34,
   "metadata": {},
   "outputs": [
    {
     "name": "stdout",
     "output_type": "stream",
     "text": [
      "[-1.4110765   0.41369904 -1.46055039 -0.99863268  0.33361282 -1.26599476\n",
      " -0.78085556 -0.13879723 -0.70569248  0.12483831  1.67006264 -0.30678084\n",
      " -0.96823757 -0.05968911]\n"
     ]
    }
   ],
   "source": [
    "print(ypred)"
   ]
  },
  {
   "cell_type": "code",
   "execution_count": 35,
   "metadata": {},
   "outputs": [
    {
     "data": {
      "image/png": "[encoded data removed]",
      "text/plain": [
       "<Figure size 432x288 with 1 Axes>"
      ]
     },
     "metadata": {
      "needs_background": "light"
     },
     "output_type": "display_data"
    }
   ],
   "source": [
    "plt.plot(ypred)\n",
    "plt.show()"
   ]
  },
  {
   "cell_type": "code",
   "execution_count": 36,
   "metadata": {},
   "outputs": [
    {
     "data": {
      "text/plain": [
       "{'bodies': [<matplotlib.collections.PolyCollection at 0x1c7af4a57c0>],\n",
       " 'cmaxes': <matplotlib.collections.LineCollection at 0x1c7af4a5610>,\n",
       " 'cmins': <matplotlib.collections.LineCollection at 0x1c7af4a5670>,\n",
       " 'cbars': <matplotlib.collections.LineCollection at 0x1c7af4a5c70>}"
      ]
     },
     "execution_count": 36,
     "metadata": {},
     "output_type": "execute_result"
    },
    {
     "data": {
      "image/png": "[encoded data removed]",
      "text/plain": [
       "<Figure size 432x288 with 1 Axes>"
      ]
     },
     "metadata": {
      "needs_background": "light"
     },
     "output_type": "display_data"
    }
   ],
   "source": [
    "plt.violinplot(ypred)"
   ]
  },
  {
   "cell_type": "markdown",
   "metadata": {},
   "source": [
    "# Evaluation"
   ]
  },
  {
   "cell_type": "code",
   "execution_count": 37,
   "metadata": {},
   "outputs": [],
   "source": [
    "from sklearn.metrics import mean_squared_error,mean_absolute_error,r2_score"
   ]
  },
  {
   "cell_type": "code",
   "execution_count": 38,
   "metadata": {},
   "outputs": [
    {
     "data": {
      "text/plain": [
       "0.00029227020188323454"
      ]
     },
     "execution_count": 38,
     "metadata": {},
     "output_type": "execute_result"
    }
   ],
   "source": [
    "mse=mean_squared_error(ytest,ypred)\n",
    "mse"
   ]
  },
  {
   "cell_type": "code",
   "execution_count": 39,
   "metadata": {},
   "outputs": [
    {
     "data": {
      "text/plain": [
       "0.014162670261040802"
      ]
     },
     "execution_count": 39,
     "metadata": {},
     "output_type": "execute_result"
    }
   ],
   "source": [
    "mae=mean_absolute_error(ytest,ypred)\n",
    "mae"
   ]
  },
  {
   "cell_type": "code",
   "execution_count": 40,
   "metadata": {},
   "outputs": [
    {
     "data": {
      "text/plain": [
       "0.017095911847083048"
      ]
     },
     "execution_count": 40,
     "metadata": {},
     "output_type": "execute_result"
    }
   ],
   "source": [
    "rmse=np.sqrt(mse)\n",
    "rmse"
   ]
  },
  {
   "cell_type": "code",
   "execution_count": 41,
   "metadata": {},
   "outputs": [],
   "source": [
    "score=r2_score(ytest,ypred)"
   ]
  },
  {
   "cell_type": "code",
   "execution_count": 42,
   "metadata": {},
   "outputs": [
    {
     "data": {
      "text/plain": [
       "0.9995787841312577"
      ]
     },
     "execution_count": 42,
     "metadata": {},
     "output_type": "execute_result"
    }
   ],
   "source": [
    "score"
   ]
  },
  {
   "cell_type": "markdown",
   "metadata": {},
   "source": [
    "# PolynomialRegression"
   ]
  },
  {
   "cell_type": "code",
   "execution_count": 43,
   "metadata": {},
   "outputs": [],
   "source": [
    "from sklearn.preprocessing import PolynomialFeatures\n",
    "poly_reg=PolynomialFeatures(degree=4)"
   ]
  },
  {
   "cell_type": "code",
   "execution_count": 44,
   "metadata": {},
   "outputs": [],
   "source": [
    "x_poly=poly_reg.fit_transform(xtrain)\n",
    "x_poly_test=poly_reg.fit_transform(xtest)"
   ]
  },
  {
   "cell_type": "code",
   "execution_count": 45,
   "metadata": {},
   "outputs": [
    {
     "data": {
      "text/plain": [
       "LinearRegression()"
      ]
     },
     "execution_count": 45,
     "metadata": {},
     "output_type": "execute_result"
    }
   ],
   "source": [
    "pol_reg=LinearRegression()\n",
    "pol_reg.fit(x_poly,ytrain)"
   ]
  },
  {
   "cell_type": "code",
   "execution_count": 46,
   "metadata": {},
   "outputs": [],
   "source": [
    "poly_ypred=pol_reg.predict(x_poly_test)"
   ]
  },
  {
   "cell_type": "markdown",
   "metadata": {},
   "source": [
    "# Evaluation"
   ]
  },
  {
   "cell_type": "code",
   "execution_count": 47,
   "metadata": {},
   "outputs": [
    {
     "name": "stdout",
     "output_type": "stream",
     "text": [
      "mse: 0.00013823178403892273\n",
      "mae: 0.008112547780370478\n",
      "rmse: 0.011757201369327768\n",
      "score: 0.999800782219239\n"
     ]
    }
   ],
   "source": [
    "from sklearn.metrics import mean_squared_error,mean_absolute_error,r2_score\n",
    "mse=mean_squared_error(ytest,poly_ypred)\n",
    "print(\"mse:\",mse)\n",
    "mae=mean_absolute_error(ytest,poly_ypred)\n",
    "print(\"mae:\",mae)\n",
    "rmse=np.sqrt(mse)\n",
    "print(\"rmse:\",rmse)\n",
    "score=r2_score(ytest,poly_ypred)\n",
    "print(\"score:\",score)"
   ]
  },
  {
   "cell_type": "markdown",
   "metadata": {},
   "source": [
    "# RidgeRegression"
   ]
  },
  {
   "cell_type": "code",
   "execution_count": 48,
   "metadata": {},
   "outputs": [],
   "source": [
    "from sklearn.linear_model import Ridge"
   ]
  },
  {
   "cell_type": "code",
   "execution_count": 49,
   "metadata": {},
   "outputs": [
    {
     "data": {
      "text/plain": [
       "Ridge(alpha=0.1)"
      ]
     },
     "execution_count": 49,
     "metadata": {},
     "output_type": "execute_result"
    }
   ],
   "source": [
    "ridge=Ridge(alpha=0.1)\n",
    "ridge.fit(xtrain,ytrain)"
   ]
  },
  {
   "cell_type": "code",
   "execution_count": 50,
   "metadata": {},
   "outputs": [
    {
     "data": {
      "text/plain": [
       "array([-1.40684484,  0.39610428, -1.46915078, -0.97848794,  0.3247322 ,\n",
       "       -1.24848033, -0.77088624, -0.13873956, -0.70327046,  0.12620445,\n",
       "        1.66962212, -0.30393928, -0.95309178, -0.06811375])"
      ]
     },
     "execution_count": 50,
     "metadata": {},
     "output_type": "execute_result"
    }
   ],
   "source": [
    "r_ypred=ridge.predict(xtest)\n",
    "r_ypred"
   ]
  },
  {
   "cell_type": "markdown",
   "metadata": {},
   "source": [
    "# Evaluation"
   ]
  },
  {
   "cell_type": "code",
   "execution_count": 51,
   "metadata": {},
   "outputs": [
    {
     "name": "stdout",
     "output_type": "stream",
     "text": [
      "mse: 0.00029227020188323454\n",
      "mae: 0.014162670261040802\n",
      "rmse: 0.017095911847083048\n",
      "score: 0.9995787841312577\n"
     ]
    }
   ],
   "source": [
    "from sklearn.metrics import mean_squared_error,mean_absolute_error,r2_score\n",
    "mse=mean_squared_error(ytest,ypred)\n",
    "print(\"mse:\",mse)\n",
    "mae=mean_absolute_error(ytest,ypred)\n",
    "print(\"mae:\",mae)\n",
    "rmse=np.sqrt(mse)\n",
    "print(\"rmse:\",rmse)\n",
    "score=r2_score(ytest,ypred)\n",
    "print(\"score:\",score)"
   ]
  },
  {
   "cell_type": "markdown",
   "metadata": {},
   "source": [
    "# LassoRegression"
   ]
  },
  {
   "cell_type": "code",
   "execution_count": 52,
   "metadata": {},
   "outputs": [],
   "source": [
    "from sklearn.linear_model import Lasso"
   ]
  },
  {
   "cell_type": "code",
   "execution_count": 53,
   "metadata": {},
   "outputs": [],
   "source": [
    "lasso=Lasso(alpha=1.0)"
   ]
  },
  {
   "cell_type": "code",
   "execution_count": 54,
   "metadata": {},
   "outputs": [
    {
     "data": {
      "text/plain": [
       "Lasso()"
      ]
     },
     "execution_count": 54,
     "metadata": {},
     "output_type": "execute_result"
    }
   ],
   "source": [
    "lasso.fit(xtrain,ytrain)"
   ]
  },
  {
   "cell_type": "code",
   "execution_count": 55,
   "metadata": {},
   "outputs": [
    {
     "data": {
      "text/plain": [
       "array([0.05331827, 0.10228806, 0.04923745, 0.06964153, 0.10228806,\n",
       "       0.0614799 , 0.07372235, 0.09004561, 0.07372235, 0.09820725,\n",
       "       0.14717704, 0.0859648 , 0.06964153, 0.09004561])"
      ]
     },
     "execution_count": 55,
     "metadata": {},
     "output_type": "execute_result"
    }
   ],
   "source": [
    "l_ypred=lasso.predict(xtest)\n",
    "l_ypred"
   ]
  },
  {
   "cell_type": "markdown",
   "metadata": {},
   "source": [
    "# Evaluation"
   ]
  },
  {
   "cell_type": "code",
   "execution_count": 56,
   "metadata": {},
   "outputs": [
    {
     "name": "stdout",
     "output_type": "stream",
     "text": [
      "mse: 0.00029227020188323454\n",
      "mae: 0.014162670261040802\n",
      "rmse: 0.017095911847083048\n",
      "score: 0.9995787841312577\n"
     ]
    }
   ],
   "source": [
    "from sklearn.metrics import mean_squared_error,mean_absolute_error,r2_score\n",
    "mse=mean_squared_error(ytest,ypred)\n",
    "print(\"mse:\",mse)\n",
    "mae=mean_absolute_error(ytest,ypred)\n",
    "print(\"mae:\",mae)\n",
    "rmse=np.sqrt(mse)\n",
    "print(\"rmse:\",rmse)\n",
    "score=r2_score(ytest,ypred)\n",
    "print(\"score:\",score)"
   ]
  },
  {
   "cell_type": "markdown",
   "metadata": {},
   "source": [
    "# elasticnet"
   ]
  },
  {
   "cell_type": "code",
   "execution_count": 57,
   "metadata": {},
   "outputs": [],
   "source": [
    "from sklearn.linear_model import ElasticNet"
   ]
  },
  {
   "cell_type": "code",
   "execution_count": 58,
   "metadata": {},
   "outputs": [],
   "source": [
    "alpha=[0.0001,0.001,0.01,0.1,0.3,0.5,1,10]"
   ]
  },
  {
   "cell_type": "markdown",
   "metadata": {},
   "source": [
    "# evaluation"
   ]
  },
  {
   "cell_type": "code",
   "execution_count": 59,
   "metadata": {},
   "outputs": [
    {
     "name": "stdout",
     "output_type": "stream",
     "text": [
      " For Alpha = 0.0001 | R-square :0.9995871671194229 MSE :0.00028645347505680253 RMSE :0.016924936486049293 MAE:0.013908632678783287 \n",
      " For Alpha = 0.001 | R-square :0.9994071820825994 MSE :0.00041134018268596754 RMSE :0.020281523184563027 MAE:0.01578028430016539 \n",
      " For Alpha = 0.01 | R-square :0.9989640583743385 MSE :0.0007188116368344559 RMSE :0.026810662745155256 MAE:0.022141695677247265 \n",
      " For Alpha = 0.1 | R-square :0.9911464902784035 MSE :0.0061432089000644 RMSE :0.07837862527541804 MAE:0.0674559371377592 \n",
      " For Alpha = 0.3 | R-square :0.950948806501202 MSE :0.03403528520735173 RMSE :0.18448654478674517 MAE:0.15838270358776405 \n",
      " For Alpha = 0.5 | R-square :0.8801099234014265 MSE :0.0831884539295397 RMSE :0.2884240869441034 MAE:0.24521830024995314 \n",
      " For Alpha = 1 | R-square :0.5942188150754086 MSE :0.2815604957914842 RMSE :0.5306227433794034 MAE:0.44539606666206893 \n",
      " For Alpha = 10 | R-square :-0.3449202761251906 MSE :0.9332034944306257 RMSE :0.966024582725836 MAE:0.8036761074351928 \n"
     ]
    }
   ],
   "source": [
    "scores={}\n",
    "for i in alpha:\n",
    "    model=ElasticNet(alpha=i)\n",
    "    model.fit(xtrain,ytrain)\n",
    "    ypred=model.predict(xtest)\n",
    "    mse=mean_squared_error(ytest,ypred)\n",
    "    rmse=np.sqrt(mse)\n",
    "    mae=mean_absolute_error(ytest,ypred)\n",
    "    scores[i]=model.score(xtest,ytest)\n",
    "    print(\" For Alpha = {} | R-square :{} MSE :{} RMSE :{} MAE:{} \".format(i,model.score(xtest,ytest),mse,rmse,mae))"
   ]
  },
  {
   "cell_type": "code",
   "execution_count": 60,
   "metadata": {},
   "outputs": [
    {
     "data": {
      "text/plain": [
       "{0.0001: 0.9995871671194229,\n",
       " 0.001: 0.9994071820825994,\n",
       " 0.01: 0.9989640583743385,\n",
       " 0.1: 0.9911464902784035,\n",
       " 0.3: 0.950948806501202,\n",
       " 0.5: 0.8801099234014265,\n",
       " 1: 0.5942188150754086,\n",
       " 10: -0.3449202761251906}"
      ]
     },
     "execution_count": 60,
     "metadata": {},
     "output_type": "execute_result"
    }
   ],
   "source": [
    "scores"
   ]
  },
  {
   "cell_type": "code",
   "execution_count": 61,
   "metadata": {},
   "outputs": [
    {
     "data": {
      "text/plain": [
       "0.0001"
      ]
     },
     "execution_count": 61,
     "metadata": {},
     "output_type": "execute_result"
    }
   ],
   "source": [
    "#get the max score and its key\n",
    "max(scores, key= lambda x: scores[x])"
   ]
  },
  {
   "cell_type": "markdown",
   "metadata": {},
   "source": [
    "# elasticnetcv"
   ]
  },
  {
   "cell_type": "code",
   "execution_count": 62,
   "metadata": {},
   "outputs": [
    {
     "data": {
      "text/plain": [
       "ElasticNetCV(alphas=[0.0001, 0.001, 0.01, 0.1, 0.3, 0.5, 1, 10], cv=5)"
      ]
     },
     "execution_count": 62,
     "metadata": {},
     "output_type": "execute_result"
    }
   ],
   "source": [
    "from sklearn.linear_model import ElasticNetCV\n",
    "model= ElasticNetCV(alphas=alpha,cv=5)\n",
    "model.fit(xtrain,ytrain)"
   ]
  },
  {
   "cell_type": "code",
   "execution_count": 63,
   "metadata": {},
   "outputs": [
    {
     "name": "stdout",
     "output_type": "stream",
     "text": [
      "0.0001\n",
      "-0.0008911017020241108\n"
     ]
    }
   ],
   "source": [
    "print(model.alpha_)\n",
    "print(model.intercept_)"
   ]
  },
  {
   "cell_type": "code",
   "execution_count": 64,
   "metadata": {},
   "outputs": [],
   "source": [
    "ypred=model.predict(xtest)"
   ]
  },
  {
   "cell_type": "markdown",
   "metadata": {},
   "source": [
    "# evaluation"
   ]
  },
  {
   "cell_type": "code",
   "execution_count": 65,
   "metadata": {},
   "outputs": [
    {
     "data": {
      "text/plain": [
       "0.9995871671194229"
      ]
     },
     "execution_count": 65,
     "metadata": {},
     "output_type": "execute_result"
    }
   ],
   "source": [
    "model.score(xtest,ytest)"
   ]
  },
  {
   "cell_type": "code",
   "execution_count": 66,
   "metadata": {},
   "outputs": [
    {
     "data": {
      "text/plain": [
       "0.00028645347505680253"
      ]
     },
     "execution_count": 66,
     "metadata": {},
     "output_type": "execute_result"
    }
   ],
   "source": [
    "mean_squared_error(ytest,ypred)"
   ]
  },
  {
   "cell_type": "code",
   "execution_count": 67,
   "metadata": {},
   "outputs": [
    {
     "data": {
      "text/plain": [
       "0.013908632678783287"
      ]
     },
     "execution_count": 67,
     "metadata": {},
     "output_type": "execute_result"
    }
   ],
   "source": [
    "mean_absolute_error(ytest,ypred)"
   ]
  },
  {
   "cell_type": "markdown",
   "metadata": {},
   "source": [
    "# conclusion:accuracy score of all the models is best i.e 0.99"
   ]
  }
 ],
 "metadata": {
  "kernelspec": {
   "display_name": "Python 3",
   "language": "python",
   "name": "python3"
  },
  "language_info": {
   "codemirror_mode": {
    "name": "ipython",
    "version": 3
   },
   "file_extension": ".py",
   "mimetype": "text/x-python",
   "name": "python",
   "nbconvert_exporter": "python",
   "pygments_lexer": "ipython3",
   "version": "3.8.8"
  }
 },
 "nbformat": 4,
 "nbformat_minor": 4
}
